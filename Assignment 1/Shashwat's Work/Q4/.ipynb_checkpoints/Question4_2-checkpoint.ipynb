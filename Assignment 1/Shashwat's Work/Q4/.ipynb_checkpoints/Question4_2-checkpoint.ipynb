{
 "cells": [
  {
   "cell_type": "code",
   "execution_count": 21,
   "metadata": {
    "id": "gO9QKHAGs-JX"
   },
   "outputs": [],
   "source": [
    "import matplotlib.pyplot as plt\n",
    "import numpy as np\n",
    "import random\n",
    "random.seed(1)\n",
    "np.random.seed(1)"
   ]
  },
  {
   "cell_type": "code",
   "execution_count": 22,
   "metadata": {
    "id": "qg_6rox4lJKO"
   },
   "outputs": [],
   "source": [
    "def M(x):\n",
    "    return np.where(abs(x) > 1, 0, abs(x))"
   ]
  },
  {
   "cell_type": "code",
   "execution_count": 23,
   "metadata": {
    "id": "1zv-BUU7j_ek"
   },
   "outputs": [],
   "source": [
    "count=100000"
   ]
  },
  {
   "cell_type": "code",
   "execution_count": 24,
   "metadata": {
    "id": "9Fq8_wQ6lmCe"
   },
   "outputs": [],
   "source": [
    "def draw_RV_X(lower = -1.0, upper = 1, leastCount = 0.001, size = count, pdf = M):\n",
    "  arr = np.linspace(lower,upper,int((upper - lower)/leastCount))\n",
    "  return np.array(random.choices(population = arr, weights = list(map(pdf, arr)), k = size))"
   ]
  },
  {
   "cell_type": "code",
   "execution_count": 25,
   "metadata": {
    "colab": {
     "base_uri": "https://localhost:8080/"
    },
    "id": "P1M4sj303QJH",
    "outputId": "2b3f21e6-62d2-4b90-9659-e96fbd9ac407"
   },
   "outputs": [
    {
     "data": {
      "text/plain": [
       "array([-0.85592796,  0.83391696,  0.72686343, ..., -0.92896448,\n",
       "       -0.1925963 ,  0.52076038])"
      ]
     },
     "execution_count": 25,
     "metadata": {},
     "output_type": "execute_result"
    }
   ],
   "source": [
    "arr = draw_RV_X()\n",
    "arr"
   ]
  },
  {
   "cell_type": "code",
   "execution_count": 26,
   "metadata": {
    "id": "YQ7m7NoHspP1"
   },
   "outputs": [],
   "source": [
    "arr.sort()"
   ]
  },
  {
   "cell_type": "code",
   "execution_count": 27,
   "metadata": {
    "colab": {
     "base_uri": "https://localhost:8080/"
    },
    "id": "eIPvLLNSspZZ",
    "outputId": "7a0350c1-71a6-403f-89ed-7f85e3a55d47"
   },
   "outputs": [
    {
     "data": {
      "text/plain": [
       "array([-1., -1., -1., ...,  1.,  1.,  1.])"
      ]
     },
     "execution_count": 27,
     "metadata": {},
     "output_type": "execute_result"
    }
   ],
   "source": [
    "arr"
   ]
  },
  {
   "cell_type": "code",
   "execution_count": 28,
   "metadata": {
    "colab": {
     "base_uri": "https://localhost:8080/"
    },
    "id": "14IULVETspfE",
    "outputId": "da2d6830-e639-45f5-8d8b-c90f41c5ee77"
   },
   "outputs": [
    {
     "data": {
      "text/plain": [
       "-0.00010800400200104833"
      ]
     },
     "execution_count": 28,
     "metadata": {},
     "output_type": "execute_result"
    }
   ],
   "source": [
    "arr.mean()"
   ]
  },
  {
   "cell_type": "code",
   "execution_count": 29,
   "metadata": {
    "colab": {
     "base_uri": "https://localhost:8080/"
    },
    "id": "rx90emcDspo0",
    "outputId": "626ebb40-f08a-487d-c2c7-d039cad83926"
   },
   "outputs": [
    {
     "data": {
      "text/plain": [
       "array([1., 1., 1., ..., 1., 1., 1.])"
      ]
     },
     "execution_count": 29,
     "metadata": {},
     "output_type": "execute_result"
    }
   ],
   "source": [
    "abs(arr)"
   ]
  },
  {
   "cell_type": "code",
   "execution_count": 30,
   "metadata": {
    "colab": {
     "base_uri": "https://localhost:8080/"
    },
    "id": "9fO8AQDatFZP",
    "outputId": "11132c86-b21f-47f1-b24f-81e3df291ee2"
   },
   "outputs": [
    {
     "data": {
      "text/plain": [
       "66654.49224612306"
      ]
     },
     "execution_count": 30,
     "metadata": {},
     "output_type": "execute_result"
    }
   ],
   "source": [
    "abs(arr).sum()"
   ]
  },
  {
   "cell_type": "code",
   "execution_count": null,
   "metadata": {
    "id": "ybEZggettFjZ"
   },
   "outputs": [],
   "source": []
  },
  {
   "cell_type": "code",
   "execution_count": 31,
   "metadata": {
    "colab": {
     "base_uri": "https://localhost:8080/"
    },
    "id": "RiV2MhLdjIUe",
    "outputId": "2abd96b5-3064-4995-aac4-e450001b6445"
   },
   "outputs": [
    {
     "data": {
      "text/plain": [
       "0.6665449224612306"
      ]
     },
     "execution_count": 31,
     "metadata": {},
     "output_type": "execute_result"
    }
   ],
   "source": [
    "np.mean(np.abs(arr))"
   ]
  },
  {
   "cell_type": "code",
   "execution_count": 32,
   "metadata": {
    "colab": {
     "base_uri": "https://localhost:8080/"
    },
    "id": "FwPoHW1njIz6",
    "outputId": "468ffda7-07b6-4807-d5a8-565479b577e5"
   },
   "outputs": [
    {
     "data": {
      "text/plain": [
       "0.6665449224612306"
      ]
     },
     "execution_count": 32,
     "metadata": {},
     "output_type": "execute_result"
    }
   ],
   "source": [
    "np.abs(arr).sum()/count"
   ]
  },
  {
   "cell_type": "code",
   "execution_count": 33,
   "metadata": {
    "id": "G-DeT5rBnb4v"
   },
   "outputs": [],
   "source": [
    "import matplotlib.pyplot as plt\n",
    "def plot_RV(lower = -1.0, upper = 1.0, leastCount = 0.001, size = count, pdf = M, bins = 200):\n",
    "  count, bins, ignored = plt.hist(draw_RV_X(lower,upper,leastCount,size,pdf), bins, density = True)\n",
    "  plt.show()"
   ]
  },
  {
   "cell_type": "code",
   "execution_count": 34,
   "metadata": {
    "colab": {
     "base_uri": "https://localhost:8080/",
     "height": 265
    },
    "id": "R9rDdoTwmL_M",
    "outputId": "95a8e4a0-d92b-49fd-cc0c-3c2113c35026"
   },
   "outputs": [
    {
     "data": {
      "image/png": "[encoded data removed]",
      "text/plain": [
       "<Figure size 432x288 with 1 Axes>"
      ]
     },
     "metadata": {
      "needs_background": "light"
     },
     "output_type": "display_data"
    }
   ],
   "source": [
    "plot_RV()"
   ]
  },
  {
   "cell_type": "code",
   "execution_count": 35,
   "metadata": {
    "id": "bxjrfYgWkZLr"
   },
   "outputs": [],
   "source": [
    "def plot_cdf(arr):\n",
    "    least_count=0.01\n",
    "    sorted_arr = np.sort(arr)\n",
    "    ans=[]\n",
    "    val=-1\n",
    "    index=0\n",
    "    for i in sorted_arr:\n",
    "        index+=1\n",
    "        if i >val+least_count:\n",
    "            val+=least_count\n",
    "            ans.append(index/count)\n",
    "    plt.plot(np.linspace(-1, 1, len(ans)), ans)\n",
    "    plt.show()"
   ]
  },
  {
   "cell_type": "code",
   "execution_count": null,
   "metadata": {
    "id": "dgHXvVThtqn7"
   },
   "outputs": [],
   "source": []
  },
  {
   "cell_type": "code",
   "execution_count": 36,
   "metadata": {
    "colab": {
     "base_uri": "https://localhost:8080/",
     "height": 265
    },
    "id": "erZFmpztkZBU",
    "outputId": "c6f82a4b-6db8-4327-a0ca-c47e292ac402"
   },
   "outputs": [
    {
     "data": {
      "image/png": "[encoded data removed]",
      "text/plain": [
       "<Figure size 432x288 with 1 Axes>"
      ]
     },
     "metadata": {
      "needs_background": "light"
     },
     "output_type": "display_data"
    }
   ],
   "source": [
    "plot_cdf(arr)"
   ]
  },
  {
   "cell_type": "code",
   "execution_count": null,
   "metadata": {
    "id": "7h1tJ24HkYir"
   },
   "outputs": [],
   "source": []
  },
  {
   "cell_type": "code",
   "execution_count": null,
   "metadata": {
    "id": "aptp4S684VMD"
   },
   "outputs": [],
   "source": []
  },
  {
   "cell_type": "code",
   "execution_count": 37,
   "metadata": {
    "id": "RzC5T4jf4VQv"
   },
   "outputs": [],
   "source": [
    "def draw_RV_Y(n, lower = -1.0, upper = 1, leastCount = 0.001, size = count, pdf = M):\n",
    "    arr = np.linspace(lower,upper,int((upper - lower)/leastCount))\n",
    "    Y = np.array(random.choices(population = arr, weights = list(map(pdf, arr)), k = size))\n",
    "\n",
    "    for i in range(n-1):\n",
    "        Y =Y+ np.array(random.choices(population = arr, weights = list(map(pdf, arr)), k = size))\n",
    "    Y/=n\n",
    "    return Y"
   ]
  },
  {
   "cell_type": "code",
   "execution_count": 38,
   "metadata": {
    "id": "3AQRX8TE4VUr"
   },
   "outputs": [],
   "source": [
    "arr = draw_RV_Y(1)"
   ]
  },
  {
   "cell_type": "code",
   "execution_count": 39,
   "metadata": {
    "colab": {
     "base_uri": "https://localhost:8080/",
     "height": 1000
    },
    "id": "QUsNlw5F4VYg",
    "outputId": "57a01291-a479-4e0d-e426-1926540c5785"
   },
   "outputs": [
    {
     "data": {
      "image/png": "[encoded data removed]",
      "text/plain": [
       "<Figure size 432x288 with 1 Axes>"
      ]
     },
     "metadata": {
      "needs_background": "light"
     },
     "output_type": "display_data"
    },
    {
     "data": {
      "image/png": "[encoded data removed]",
      "text/plain": [
       "<Figure size 432x288 with 1 Axes>"
      ]
     },
     "metadata": {
      "needs_background": "light"
     },
     "output_type": "display_data"
    },
    {
     "data": {
      "image/png": "[encoded data removed]",
      "text/plain": [
       "<Figure size 432x288 with 1 Axes>"
      ]
     },
     "metadata": {
      "needs_background": "light"
     },
     "output_type": "display_data"
    },
    {
     "data": {
      "image/png": "[encoded data removed]",
      "text/plain": [
       "<Figure size 432x288 with 1 Axes>"
      ]
     },
     "metadata": {
      "needs_background": "light"
     },
     "output_type": "display_data"
    },
    {
     "data": {
      "image/png": "[encoded data removed]",
      "text/plain": [
       "<Figure size 432x288 with 1 Axes>"
      ]
     },
     "metadata": {
      "needs_background": "light"
     },
     "output_type": "display_data"
    },
    {
     "data": {
      "image/png": "[encoded data removed]",
      "text/plain": [
       "<Figure size 432x288 with 1 Axes>"
      ]
     },
     "metadata": {
      "needs_background": "light"
     },
     "output_type": "display_data"
    },
    {
     "data": {
      "image/png": "[encoded data removed]",
      "text/plain": [
       "<Figure size 432x288 with 1 Axes>"
      ]
     },
     "metadata": {
      "needs_background": "light"
     },
     "output_type": "display_data"
    }
   ],
   "source": [
    "import matplotlib.pyplot as plt\n",
    "def plot_RV_Y(lower = -1.0, upper = 1.0, leastCount = 0.001, size = count, pdf = M, bins = 200):\n",
    "    size = int(size/10)\n",
    "    random_var_array=[]\n",
    "    for i in [1,2,4,8,16,32,64]:\n",
    "        random_var_array.append(draw_RV_Y(i, lower,upper,leastCount,size,pdf))\n",
    "        count, bins, ignored = plt.hist(random_var_array[-1], bins, density = True)\n",
    "        plt.title(i)\n",
    "        plt.show()\n",
    "    return random_var_array\n",
    "final_array = plot_RV_Y()\n"
   ]
  },
  {
   "cell_type": "code",
   "execution_count": 40,
   "metadata": {
    "colab": {
     "base_uri": "https://localhost:8080/",
     "height": 281
    },
    "id": "XzqtVVhh4VcZ",
    "outputId": "62860563-fc4e-4eef-a8fa-e2850eb9c12b"
   },
   "outputs": [
    {
     "data": {
      "image/png": "[encoded data removed]",
      "text/plain": [
       "<Figure size 432x288 with 1 Axes>"
      ]
     },
     "metadata": {
      "needs_background": "light"
     },
     "output_type": "display_data"
    }
   ],
   "source": [
    "def plot_cdf_Y(final_arr, count):\n",
    "    least_count=0.001\n",
    "    main_index=1\n",
    "    for arr in final_arr:\n",
    "        sorted_arr = np.sort(arr)\n",
    "        ans=[]\n",
    "        val=sorted_arr[0]\n",
    "        index=0\n",
    "        for i in sorted_arr:\n",
    "            index+=1\n",
    "            if i >val+least_count:\n",
    "                val+=least_count\n",
    "                ans.append(index/count)\n",
    "        plt.plot(np.linspace(-1, 1, len(ans)), ans, label = str(main_index))\n",
    "        main_index*=2\n",
    "    plt.ylabel(\"CDF\")\n",
    "    plt.title(\"Plotting the CDF of Random Variable Y_N, for N = 1,2,4,8,16,32,64\")\n",
    "    plt.legend()   \n",
    "    plt.savefig(\"graph.png\", dpi=1000)\n",
    "    plt.show()\n",
    "\n",
    "\n",
    "plot_cdf_Y( final_array, len(final_array[-1]) )"
   ]
  },
  {
   "cell_type": "code",
   "execution_count": null,
   "metadata": {
    "id": "U7QaxGmd7yDE"
   },
   "outputs": [],
   "source": []
  },
  {
   "cell_type": "code",
   "execution_count": null,
   "metadata": {
    "id": "9LWTlD_P7yMj"
   },
   "outputs": [],
   "source": []
  },
  {
   "cell_type": "code",
   "execution_count": null,
   "metadata": {
    "id": "nse3ltrX7ySD"
   },
   "outputs": [],
   "source": []
  },
  {
   "cell_type": "code",
   "execution_count": null,
   "metadata": {
    "id": "mqI5sSsy7ydb"
   },
   "outputs": [],
   "source": []
  },
  {
   "cell_type": "code",
   "execution_count": null,
   "metadata": {
    "id": "HBYmvmGuojNR"
   },
   "outputs": [],
   "source": []
  },
  {
   "cell_type": "code",
   "execution_count": null,
   "metadata": {
    "id": "vLOl5pYyo6iX"
   },
   "outputs": [],
   "source": []
  },
  {
   "cell_type": "markdown",
   "metadata": {
    "id": "CYvTDxeb5xSD"
   },
   "source": []
  },
  {
   "cell_type": "code",
   "execution_count": null,
   "metadata": {
    "id": "3Bp1Rg0i4DN5"
   },
   "outputs": [],
   "source": []
  },
  {
   "cell_type": "code",
   "execution_count": null,
   "metadata": {
    "colab": {
     "base_uri": "https://localhost:8080/",
     "height": 264
    },
    "id": "S3JbdRL97YMe",
    "outputId": "05a3e1cd-7ecb-47fa-8b0d-b0c629030277"
   },
   "outputs": [],
   "source": []
  },
  {
   "cell_type": "code",
   "execution_count": null,
   "metadata": {
    "id": "iZGzzyYk8Y3L"
   },
   "outputs": [],
   "source": []
  },
  {
   "cell_type": "code",
   "execution_count": null,
   "metadata": {
    "id": "lLY8PHEH8AI4"
   },
   "outputs": [],
   "source": []
  },
  {
   "cell_type": "code",
   "execution_count": null,
   "metadata": {
    "id": "a2jW6trC9Mav"
   },
   "outputs": [],
   "source": []
  }
 ],
 "metadata": {
  "colab": {
   "name": "Copy of 215_Assg1Q4.ipynb",
   "provenance": []
  },
  "kernelspec": {
   "display_name": "Python 3",
   "language": "python",
   "name": "python3"
  },
  "language_info": {
   "codemirror_mode": {
    "name": "ipython",
    "version": 3
   },
   "file_extension": ".py",
   "mimetype": "text/x-python",
   "name": "python",
   "nbconvert_exporter": "python",
   "pygments_lexer": "ipython3",
   "version": "3.8.5"
  }
 },
 "nbformat": 4,
 "nbformat_minor": 1
}
